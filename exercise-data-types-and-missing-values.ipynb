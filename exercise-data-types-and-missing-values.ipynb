{
 "cells": [
  {
   "cell_type": "markdown",
   "id": "a32c5a33",
   "metadata": {
    "papermill": {
     "duration": 0.005141,
     "end_time": "2025-03-18T09:46:29.732995",
     "exception": false,
     "start_time": "2025-03-18T09:46:29.727854",
     "status": "completed"
    },
    "tags": []
   },
   "source": [
    "**This notebook is an exercise in the [Pandas](https://www.kaggle.com/learn/pandas) course.  You can reference the tutorial at [this link](https://www.kaggle.com/residentmario/data-types-and-missing-values).**\n",
    "\n",
    "---\n"
   ]
  },
  {
   "cell_type": "markdown",
   "id": "c9403ff1",
   "metadata": {
    "papermill": {
     "duration": 0.003773,
     "end_time": "2025-03-18T09:46:29.741253",
     "exception": false,
     "start_time": "2025-03-18T09:46:29.737480",
     "status": "completed"
    },
    "tags": []
   },
   "source": [
    "# Introduction\n",
    "\n",
    "Run the following cell to load your data and some utility functions."
   ]
  },
  {
   "cell_type": "code",
   "execution_count": 1,
   "id": "a2cec20a",
   "metadata": {
    "execution": {
     "iopub.execute_input": "2025-03-18T09:46:29.750785Z",
     "iopub.status.busy": "2025-03-18T09:46:29.750362Z",
     "iopub.status.idle": "2025-03-18T09:46:34.341099Z",
     "shell.execute_reply": "2025-03-18T09:46:34.339386Z"
    },
    "papermill": {
     "duration": 4.597768,
     "end_time": "2025-03-18T09:46:34.343121",
     "exception": false,
     "start_time": "2025-03-18T09:46:29.745353",
     "status": "completed"
    },
    "tags": []
   },
   "outputs": [
    {
     "name": "stdout",
     "output_type": "stream",
     "text": [
      "Setup complete.\n"
     ]
    }
   ],
   "source": [
    "import pandas as pd\n",
    "\n",
    "reviews = pd.read_csv(\"../input/wine-reviews/winemag-data-130k-v2.csv\", index_col=0)\n",
    "\n",
    "from learntools.core import binder; binder.bind(globals())\n",
    "from learntools.pandas.data_types_and_missing_data import *\n",
    "print(\"Setup complete.\")"
   ]
  },
  {
   "cell_type": "markdown",
   "id": "93aa1dc1",
   "metadata": {
    "papermill": {
     "duration": 0.003632,
     "end_time": "2025-03-18T09:46:34.350921",
     "exception": false,
     "start_time": "2025-03-18T09:46:34.347289",
     "status": "completed"
    },
    "tags": []
   },
   "source": [
    "# Exercises"
   ]
  },
  {
   "cell_type": "markdown",
   "id": "db971a64",
   "metadata": {
    "papermill": {
     "duration": 0.003418,
     "end_time": "2025-03-18T09:46:34.358135",
     "exception": false,
     "start_time": "2025-03-18T09:46:34.354717",
     "status": "completed"
    },
    "tags": []
   },
   "source": [
    "## 1. \n",
    "What is the data type of the `points` column in the dataset?"
   ]
  },
  {
   "cell_type": "code",
   "execution_count": 2,
   "id": "c039c25d",
   "metadata": {
    "execution": {
     "iopub.execute_input": "2025-03-18T09:46:34.367351Z",
     "iopub.status.busy": "2025-03-18T09:46:34.366929Z",
     "iopub.status.idle": "2025-03-18T09:46:34.379737Z",
     "shell.execute_reply": "2025-03-18T09:46:34.378592Z"
    },
    "papermill": {
     "duration": 0.019745,
     "end_time": "2025-03-18T09:46:34.381563",
     "exception": false,
     "start_time": "2025-03-18T09:46:34.361818",
     "status": "completed"
    },
    "tags": []
   },
   "outputs": [
    {
     "data": {
      "application/javascript": [
       "parent.postMessage({\"jupyterEvent\": \"custom.exercise_interaction\", \"data\": {\"outcomeType\": 1, \"valueTowardsCompletion\": 0.25, \"interactionType\": 1, \"questionType\": 1, \"questionId\": \"1_PointsDtype\", \"learnToolsVersion\": \"0.3.4\", \"failureMessage\": \"\", \"exceptionClass\": \"\", \"trace\": \"\"}}, \"*\")"
      ],
      "text/plain": [
       "<IPython.core.display.Javascript object>"
      ]
     },
     "metadata": {},
     "output_type": "display_data"
    },
    {
     "data": {
      "text/markdown": [
       "<span style=\"color:#33cc33\">Correct</span>"
      ],
      "text/plain": [
       "Correct"
      ]
     },
     "metadata": {},
     "output_type": "display_data"
    },
    {
     "data": {
      "text/plain": [
       "dtype('int64')"
      ]
     },
     "execution_count": 2,
     "metadata": {},
     "output_type": "execute_result"
    }
   ],
   "source": [
    "# Your code here\n",
    "dtype = reviews.points.dtype\n",
    "\n",
    "# Check your answer\n",
    "q1.check()\n",
    "dtype"
   ]
  },
  {
   "cell_type": "code",
   "execution_count": 3,
   "id": "6e690cc7",
   "metadata": {
    "execution": {
     "iopub.execute_input": "2025-03-18T09:46:34.391742Z",
     "iopub.status.busy": "2025-03-18T09:46:34.391248Z",
     "iopub.status.idle": "2025-03-18T09:46:34.395709Z",
     "shell.execute_reply": "2025-03-18T09:46:34.394501Z"
    },
    "papermill": {
     "duration": 0.011747,
     "end_time": "2025-03-18T09:46:34.397710",
     "exception": false,
     "start_time": "2025-03-18T09:46:34.385963",
     "status": "completed"
    },
    "tags": []
   },
   "outputs": [],
   "source": [
    "#q1.hint()\n",
    "#q1.solution()"
   ]
  },
  {
   "cell_type": "markdown",
   "id": "b64d26e5",
   "metadata": {
    "papermill": {
     "duration": 0.004001,
     "end_time": "2025-03-18T09:46:34.406154",
     "exception": false,
     "start_time": "2025-03-18T09:46:34.402153",
     "status": "completed"
    },
    "tags": []
   },
   "source": [
    "## 2. \n",
    "Create a Series from entries in the `points` column, but convert the entries to strings. Hint: strings are `str` in native Python."
   ]
  },
  {
   "cell_type": "code",
   "execution_count": 4,
   "id": "f1de80f7",
   "metadata": {
    "execution": {
     "iopub.execute_input": "2025-03-18T09:46:34.416141Z",
     "iopub.status.busy": "2025-03-18T09:46:34.415710Z",
     "iopub.status.idle": "2025-03-18T09:46:34.465948Z",
     "shell.execute_reply": "2025-03-18T09:46:34.464762Z"
    },
    "papermill": {
     "duration": 0.057786,
     "end_time": "2025-03-18T09:46:34.468093",
     "exception": false,
     "start_time": "2025-03-18T09:46:34.410307",
     "status": "completed"
    },
    "tags": []
   },
   "outputs": [
    {
     "data": {
      "application/javascript": [
       "parent.postMessage({\"jupyterEvent\": \"custom.exercise_interaction\", \"data\": {\"outcomeType\": 1, \"valueTowardsCompletion\": 0.25, \"interactionType\": 1, \"questionType\": 1, \"questionId\": \"2_StrPoints\", \"learnToolsVersion\": \"0.3.4\", \"failureMessage\": \"\", \"exceptionClass\": \"\", \"trace\": \"\"}}, \"*\")"
      ],
      "text/plain": [
       "<IPython.core.display.Javascript object>"
      ]
     },
     "metadata": {},
     "output_type": "display_data"
    },
    {
     "data": {
      "text/markdown": [
       "<span style=\"color:#33cc33\">Correct</span>"
      ],
      "text/plain": [
       "Correct"
      ]
     },
     "metadata": {},
     "output_type": "display_data"
    },
    {
     "data": {
      "text/plain": [
       "0         87\n",
       "1         87\n",
       "2         87\n",
       "3         87\n",
       "4         87\n",
       "          ..\n",
       "129966    90\n",
       "129967    90\n",
       "129968    90\n",
       "129969    90\n",
       "129970    90\n",
       "Name: points, Length: 129971, dtype: object"
      ]
     },
     "execution_count": 4,
     "metadata": {},
     "output_type": "execute_result"
    }
   ],
   "source": [
    "point_strings = reviews.points.astype('str')\n",
    "\n",
    "# Check your answer\n",
    "q2.check()\n",
    "point_strings"
   ]
  },
  {
   "cell_type": "code",
   "execution_count": 5,
   "id": "26231a80",
   "metadata": {
    "execution": {
     "iopub.execute_input": "2025-03-18T09:46:34.479339Z",
     "iopub.status.busy": "2025-03-18T09:46:34.478845Z",
     "iopub.status.idle": "2025-03-18T09:46:34.483792Z",
     "shell.execute_reply": "2025-03-18T09:46:34.482262Z"
    },
    "papermill": {
     "duration": 0.012778,
     "end_time": "2025-03-18T09:46:34.485637",
     "exception": false,
     "start_time": "2025-03-18T09:46:34.472859",
     "status": "completed"
    },
    "tags": []
   },
   "outputs": [],
   "source": [
    "#q2.hint()\n",
    "#q2.solution()"
   ]
  },
  {
   "cell_type": "markdown",
   "id": "dce65fe9",
   "metadata": {
    "papermill": {
     "duration": 0.004932,
     "end_time": "2025-03-18T09:46:34.495889",
     "exception": false,
     "start_time": "2025-03-18T09:46:34.490957",
     "status": "completed"
    },
    "tags": []
   },
   "source": [
    "## 3.\n",
    "Sometimes the price column is null. How many reviews in the dataset are missing a price?"
   ]
  },
  {
   "cell_type": "code",
   "execution_count": 6,
   "id": "a141a326",
   "metadata": {
    "execution": {
     "iopub.execute_input": "2025-03-18T09:46:34.508671Z",
     "iopub.status.busy": "2025-03-18T09:46:34.508171Z",
     "iopub.status.idle": "2025-03-18T09:46:34.520667Z",
     "shell.execute_reply": "2025-03-18T09:46:34.519508Z"
    },
    "papermill": {
     "duration": 0.021284,
     "end_time": "2025-03-18T09:46:34.522644",
     "exception": false,
     "start_time": "2025-03-18T09:46:34.501360",
     "status": "completed"
    },
    "tags": []
   },
   "outputs": [
    {
     "data": {
      "application/javascript": [
       "parent.postMessage({\"jupyterEvent\": \"custom.exercise_interaction\", \"data\": {\"outcomeType\": 1, \"valueTowardsCompletion\": 0.25, \"interactionType\": 1, \"questionType\": 1, \"questionId\": \"3_CountMissingPrices\", \"learnToolsVersion\": \"0.3.4\", \"failureMessage\": \"\", \"exceptionClass\": \"\", \"trace\": \"\"}}, \"*\")"
      ],
      "text/plain": [
       "<IPython.core.display.Javascript object>"
      ]
     },
     "metadata": {},
     "output_type": "display_data"
    },
    {
     "data": {
      "text/markdown": [
       "<span style=\"color:#33cc33\">Correct</span>"
      ],
      "text/plain": [
       "Correct"
      ]
     },
     "metadata": {},
     "output_type": "display_data"
    },
    {
     "data": {
      "text/plain": [
       "8996"
      ]
     },
     "execution_count": 6,
     "metadata": {},
     "output_type": "execute_result"
    }
   ],
   "source": [
    "n_missing_prices = reviews['price'].isnull().sum()\n",
    "\n",
    "# Check your answer\n",
    "q3.check()\n",
    "n_missing_prices"
   ]
  },
  {
   "cell_type": "code",
   "execution_count": 7,
   "id": "ee4e8cf1",
   "metadata": {
    "execution": {
     "iopub.execute_input": "2025-03-18T09:46:34.535690Z",
     "iopub.status.busy": "2025-03-18T09:46:34.535224Z",
     "iopub.status.idle": "2025-03-18T09:46:34.544074Z",
     "shell.execute_reply": "2025-03-18T09:46:34.542816Z"
    },
    "papermill": {
     "duration": 0.017716,
     "end_time": "2025-03-18T09:46:34.546245",
     "exception": false,
     "start_time": "2025-03-18T09:46:34.528529",
     "status": "completed"
    },
    "tags": []
   },
   "outputs": [
    {
     "data": {
      "application/javascript": [
       "parent.postMessage({\"jupyterEvent\": \"custom.exercise_interaction\", \"data\": {\"interactionType\": 3, \"questionType\": 1, \"questionId\": \"3_CountMissingPrices\", \"learnToolsVersion\": \"0.3.4\", \"valueTowardsCompletion\": 0.0, \"failureMessage\": \"\", \"exceptionClass\": \"\", \"trace\": \"\", \"outcomeType\": 4}}, \"*\")"
      ],
      "text/plain": [
       "<IPython.core.display.Javascript object>"
      ]
     },
     "metadata": {},
     "output_type": "display_data"
    },
    {
     "data": {
      "text/markdown": [
       "<span style=\"color:#33cc99\">Solution:</span> \n",
       "```python\n",
       "missing_price_reviews = reviews[reviews.price.isnull()]\n",
       "n_missing_prices = len(missing_price_reviews)\n",
       "# Cute alternative solution: if we sum a boolean series, True is treated as 1 and False as 0\n",
       "n_missing_prices = reviews.price.isnull().sum()\n",
       "# or equivalently:\n",
       "n_missing_prices = pd.isnull(reviews.price).sum()\n",
       "\n",
       "```"
      ],
      "text/plain": [
       "Solution: \n",
       "```python\n",
       "missing_price_reviews = reviews[reviews.price.isnull()]\n",
       "n_missing_prices = len(missing_price_reviews)\n",
       "# Cute alternative solution: if we sum a boolean series, True is treated as 1 and False as 0\n",
       "n_missing_prices = reviews.price.isnull().sum()\n",
       "# or equivalently:\n",
       "n_missing_prices = pd.isnull(reviews.price).sum()\n",
       "\n",
       "```"
      ]
     },
     "metadata": {},
     "output_type": "display_data"
    }
   ],
   "source": [
    "#q3.hint()\n",
    "q3.solution()"
   ]
  },
  {
   "cell_type": "markdown",
   "id": "8f7263f3",
   "metadata": {
    "papermill": {
     "duration": 0.004805,
     "end_time": "2025-03-18T09:46:34.556652",
     "exception": false,
     "start_time": "2025-03-18T09:46:34.551847",
     "status": "completed"
    },
    "tags": []
   },
   "source": [
    "## 4.\n",
    "What are the most common wine-producing regions? Create a Series counting the number of times each value occurs in the `region_1` field. This field is often missing data, so replace missing values with `Unknown`. Sort in descending order.  Your output should look something like this:\n",
    "\n",
    "```\n",
    "Unknown                    21247\n",
    "Napa Valley                 4480\n",
    "                           ...  \n",
    "Bardolino Superiore            1\n",
    "Primitivo del Tarantino        1\n",
    "Name: region_1, Length: 1230, dtype: int64\n",
    "```"
   ]
  },
  {
   "cell_type": "code",
   "execution_count": 8,
   "id": "b155ca3d",
   "metadata": {
    "execution": {
     "iopub.execute_input": "2025-03-18T09:46:34.568544Z",
     "iopub.status.busy": "2025-03-18T09:46:34.568066Z",
     "iopub.status.idle": "2025-03-18T09:46:34.621126Z",
     "shell.execute_reply": "2025-03-18T09:46:34.619824Z"
    },
    "papermill": {
     "duration": 0.061547,
     "end_time": "2025-03-18T09:46:34.623126",
     "exception": false,
     "start_time": "2025-03-18T09:46:34.561579",
     "status": "completed"
    },
    "tags": []
   },
   "outputs": [
    {
     "data": {
      "application/javascript": [
       "parent.postMessage({\"jupyterEvent\": \"custom.exercise_interaction\", \"data\": {\"outcomeType\": 1, \"valueTowardsCompletion\": 0.25, \"interactionType\": 1, \"questionType\": 2, \"questionId\": \"4_ReviewsPerRegion\", \"learnToolsVersion\": \"0.3.4\", \"failureMessage\": \"\", \"exceptionClass\": \"\", \"trace\": \"\"}}, \"*\")"
      ],
      "text/plain": [
       "<IPython.core.display.Javascript object>"
      ]
     },
     "metadata": {},
     "output_type": "display_data"
    },
    {
     "data": {
      "text/markdown": [
       "<span style=\"color:#33cc33\">Correct</span>"
      ],
      "text/plain": [
       "Correct"
      ]
     },
     "metadata": {},
     "output_type": "display_data"
    }
   ],
   "source": [
    "reviews.region_1 = reviews.region_1.fillna(\"Unknown\")\n",
    "reviews_per_region = reviews.region_1.value_counts()\n",
    "\n",
    "# Check your answer\n",
    "q4.check()"
   ]
  },
  {
   "cell_type": "code",
   "execution_count": 9,
   "id": "6c80ad31",
   "metadata": {
    "execution": {
     "iopub.execute_input": "2025-03-18T09:46:34.636642Z",
     "iopub.status.busy": "2025-03-18T09:46:34.636183Z",
     "iopub.status.idle": "2025-03-18T09:46:34.640785Z",
     "shell.execute_reply": "2025-03-18T09:46:34.639530Z"
    },
    "papermill": {
     "duration": 0.01379,
     "end_time": "2025-03-18T09:46:34.643047",
     "exception": false,
     "start_time": "2025-03-18T09:46:34.629257",
     "status": "completed"
    },
    "tags": []
   },
   "outputs": [],
   "source": [
    "#q4.hint()\n",
    "#q4.solution()"
   ]
  },
  {
   "cell_type": "markdown",
   "id": "a6adb9f9",
   "metadata": {
    "papermill": {
     "duration": 0.005123,
     "end_time": "2025-03-18T09:46:34.654379",
     "exception": false,
     "start_time": "2025-03-18T09:46:34.649256",
     "status": "completed"
    },
    "tags": []
   },
   "source": [
    "# Keep going\n",
    "\n",
    "Move on to **[renaming and combining](https://www.kaggle.com/residentmario/renaming-and-combining)**."
   ]
  },
  {
   "cell_type": "markdown",
   "id": "ca17356f",
   "metadata": {
    "papermill": {
     "duration": 0.004996,
     "end_time": "2025-03-18T09:46:34.664739",
     "exception": false,
     "start_time": "2025-03-18T09:46:34.659743",
     "status": "completed"
    },
    "tags": []
   },
   "source": [
    "---\n",
    "\n",
    "\n",
    "\n",
    "\n",
    "*Have questions or comments? Visit the [course discussion forum](https://www.kaggle.com/learn/pandas/discussion) to chat with other learners.*"
   ]
  }
 ],
 "metadata": {
  "kaggle": {
   "accelerator": "none",
   "dataSources": [
    {
     "datasetId": 655,
     "sourceId": 1252,
     "sourceType": "datasetVersion"
    },
    {
     "datasetId": 2321,
     "sourceId": 3919,
     "sourceType": "datasetVersion"
    },
    {
     "datasetId": 2894,
     "sourceId": 4877,
     "sourceType": "datasetVersion"
    },
    {
     "datasetId": 3491,
     "sourceId": 5624,
     "sourceType": "datasetVersion"
    },
    {
     "datasetId": 1442,
     "sourceId": 8172,
     "sourceType": "datasetVersion"
    },
    {
     "datasetId": 9366,
     "sourceId": 13206,
     "sourceType": "datasetVersion"
    },
    {
     "datasetId": 179555,
     "sourceId": 403916,
     "sourceType": "datasetVersion"
    },
    {
     "datasetId": 4549,
     "sourceId": 466349,
     "sourceType": "datasetVersion"
    },
    {
     "datasetId": 2478,
     "sourceId": 1151655,
     "sourceType": "datasetVersion"
    },
    {
     "datasetId": 10128,
     "sourceId": 5438389,
     "sourceType": "datasetVersion"
    }
   ],
   "isGpuEnabled": false,
   "isInternetEnabled": false,
   "language": "python",
   "sourceType": "notebook"
  },
  "kernelspec": {
   "display_name": "Python 3",
   "language": "python",
   "name": "python3"
  },
  "language_info": {
   "codemirror_mode": {
    "name": "ipython",
    "version": 3
   },
   "file_extension": ".py",
   "mimetype": "text/x-python",
   "name": "python",
   "nbconvert_exporter": "python",
   "pygments_lexer": "ipython3",
   "version": "3.10.12"
  },
  "papermill": {
   "default_parameters": {},
   "duration": 8.92061,
   "end_time": "2025-03-18T09:46:35.595210",
   "environment_variables": {},
   "exception": null,
   "input_path": "__notebook__.ipynb",
   "output_path": "__notebook__.ipynb",
   "parameters": {},
   "start_time": "2025-03-18T09:46:26.674600",
   "version": "2.6.0"
  }
 },
 "nbformat": 4,
 "nbformat_minor": 5
}
